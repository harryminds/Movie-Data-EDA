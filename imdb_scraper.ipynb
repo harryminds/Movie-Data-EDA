{
 "cells": [
  {
   "cell_type": "markdown",
   "metadata": {},
   "source": [
    "<h1>IMDB Scraper</h1>\n",
    "\n",
    "<p>This is a scraper for gleaning data from imdb.com. We are mostly trying to get the budget and box office data for titles.</p>"
   ]
  },
  {
   "cell_type": "code",
   "execution_count": 352,
   "metadata": {},
   "outputs": [],
   "source": [
    "import pandas as pd\n",
    "import requests\n",
    "from bs4 import BeautifulSoup\n",
    "import time\n",
    "import json\n",
    "import pyarrow.feather as feather"
   ]
  },
  {
   "cell_type": "markdown",
   "metadata": {},
   "source": [
    "<h2>Running an advanced search</h2>\n",
    "<p>First, we will run an advanced search on imdb.com.</p>\n",
    "<p>We are filtering in the search:</p>\n",
    "<ul>\n",
    "    <li>feature films</li>\n",
    "    <li>from 2010-2021</li>\n",
    "    <li>made in USA</li>\n",
    "    <li>longer than an 60 min</li>\n",
    "   </ul>"
   ]
  },
  {
   "cell_type": "code",
   "execution_count": 279,
   "metadata": {},
   "outputs": [],
   "source": [
    "#I need to hard code the url for imdb's specific advanced search fields that include commas. This function will return \n",
    "#the search results url for a page in the pagination of the search specified by count\n",
    "\n",
    "PER_PAGE = 250\n",
    "\n",
    "def get_search_url(count):\n",
    "    date = '2010-01-01,2021-12-31'\n",
    "    countries = 'us'\n",
    "    runtime = '60'\n",
    "    start = (count * PER_PAGE) + 1\n",
    "    search_string = f'https://www.imdb.com/search/title/?title_type=feature&release_date={date}&countries={countries}&runtime={runtime},&count={PER_PAGE}&start={start}&ref=adv_nxt'\n",
    "    \n",
    "    return requests.get(search_string)"
   ]
  },
  {
   "cell_type": "code",
   "execution_count": 280,
   "metadata": {},
   "outputs": [
    {
     "name": "stdout",
     "output_type": "stream",
     "text": [
      "collected 20 / 20 pages\r"
     ]
    }
   ],
   "source": [
    "#get first 5000 in search\n",
    "\n",
    "MAX_RESULTS = 5000\n",
    "num_of_pages = MAX_RESULTS // PER_PAGE\n",
    "\n",
    "results = []\n",
    "\n",
    "for i in range(num_of_pages):\n",
    "    r = get_search_url(i)\n",
    "    soup = BeautifulSoup(r.text, 'html.parser')\n",
    "    \n",
    "    all_titles = soup.find_all('div', class_='lister-item-content')\n",
    "    \n",
    "    for title in all_titles:\n",
    "        result = {\n",
    "            'id' : title.a['href'][-10:-1],\n",
    "            'url' : title.a['href'],\n",
    "            'title' : title.a.text,\n",
    "            'year' : title.find('span', class_=\"lister-item-year\").text if title.find('span', class_=\"lister-item-year\") != None else None,\n",
    "            'genre' : title.find('span', class_='genre').text.strip().strip('\\n').split(',') if title.find('span', class_='genre') != None else None,\n",
    "            'certificate' : title.find('span', class_='certificate').text if title.find('span', class_='certificate') != None else None,\n",
    "            'runtime' : title.find('span', class_='runtime').text if title.find('span', class_='runtime') != None else None,\n",
    "            'imdb_rating' : title.find('div', class_='ratings-imdb-rating').find('strong').text if title.find('div', class_='ratings-imdb-rating') != None else None,\n",
    "            'metascore' : title.find('span', class_=\"metascore mixed\").text.strip() if title.find('span', class_=\"metascore mixed\") != None else None,\n",
    "        }\n",
    "        \n",
    "        results.append(result)\n",
    "\n",
    "    time.sleep(2)\n",
    "        \n",
    "    print(f'collected {i+1} / {num_of_pages} pages', end=\"\\r\")\n",
    "\n"
   ]
  },
  {
   "cell_type": "code",
   "execution_count": 281,
   "metadata": {},
   "outputs": [
    {
     "data": {
      "text/plain": [
       "5000"
      ]
     },
     "execution_count": 281,
     "metadata": {},
     "output_type": "execute_result"
    }
   ],
   "source": [
    "len(results)"
   ]
  },
  {
   "cell_type": "markdown",
   "metadata": {},
   "source": [
    "<h2>Getting budget and box office info</h2>\n",
    "\n",
    "<p>We need to iterate to each title we just scraped to get the budget and box office info.</p>"
   ]
  },
  {
   "cell_type": "code",
   "execution_count": 305,
   "metadata": {},
   "outputs": [
    {
     "name": "stdout",
     "output_type": "stream",
     "text": [
      "getting more info for 1784 / 5000 results\r"
     ]
    }
   ],
   "source": [
    "#Some information isn't available from the details in the imdb search page. We need to go to each page\n",
    "#to get budget and box office info, as well as cast and director\n",
    "\n",
    "def get_data_from_dataid(dataid, final_data_holder, soup, isNumber=False):\n",
    "    data_li = soup.select(dataid)\n",
    "    data = [y.get_text() for x in data_li for y in x.find_all(final_data_holder, {'class':\"ipc-metadata-list-item__list-content-item\"})]\n",
    "    \n",
    "    if len(data) > 0:\n",
    "        if isNumber:\n",
    "            data = int(''.join([x for x in data[0] if x.isnumeric()]))\n",
    "        return data\n",
    "    else:\n",
    "        return\n",
    "\n",
    "\n",
    "for i, result in enumerate(results):\n",
    "    r = requests.get('https://imdb.com' + result['url'])\n",
    "    soup = BeautifulSoup(r.text, 'html.parser')\n",
    "    \n",
    "    \n",
    "    metadata = soup.find('script')\n",
    "    meta_json = json.loads(metadata.contents[0])\n",
    "    meta_keys = meta_json.keys()\n",
    "    result['principals'] = [{'name':x['name'], 'id':x['url'][-10:-1]} for x in meta_json['actor']] if 'actor' in meta_keys else None\n",
    "    result['director'] = [{'name':x['name'], 'id':x['url'][-10:-1]} for x in meta_json['director']] if 'director' in meta_keys else None\n",
    "    result['creator'] = [{'id':x['url'][-10:-1]} for x in meta_json['creator']] if 'creator' in meta_keys else None\n",
    "    \n",
    "    result['budget'] = get_data_from_dataid('li[data-testid=\"title-boxoffice-budget\"]', 'span', soup, isNumber = True)\n",
    "    result['domestic_box_office'] = get_data_from_dataid('li[data-testid=\"title-boxoffice-grossdomestic\"]', 'span', soup, isNumber = True)\n",
    "    result['worldwide_box_office'] = get_data_from_dataid('li[data-testid=\"title-boxoffice-cumulativeworldwidegross\"]', 'span', soup, isNumber = True)\n",
    "    result['origin'] = get_data_from_dataid('li[data-testid=\"title-details-origin\"]', 'a', soup)\n",
    "    \n",
    "    \n",
    "    print(f'getting more info for {i+1} / {len(results)} results', end=\"\\r\")"
   ]
  },
  {
   "cell_type": "code",
   "execution_count": 341,
   "metadata": {},
   "outputs": [],
   "source": [
    "imdb_df = pd.DataFrame(results)"
   ]
  },
  {
   "cell_type": "code",
   "execution_count": 342,
   "metadata": {},
   "outputs": [],
   "source": [
    "#clean numbers\n",
    "\n",
    "def string_to_int(string):\n",
    "    return int(''.join([x for x in string if x.isnumeric()])) if string != None else None\n",
    "\n",
    "def string_to_float(string):\n",
    "    return float(''.join([x for x in string if x.isnumeric() or x =='.'])) if string != None else None\n",
    "\n",
    "imdb_df.year = imdb_df.year.map(string_to_int)\n",
    "imdb_df.runtime = imdb_df.runtime.map(string_to_int)\n",
    "imdb_df.imdb_rating = imdb_df.imdb_rating.map(string_to_float)\n",
    "imdb_df.metascore = imdb_df.metascore.map(string_to_int)"
   ]
  },
  {
   "cell_type": "code",
   "execution_count": 347,
   "metadata": {},
   "outputs": [],
   "source": [
    "for i in range(3):\n",
    "    imdb_df[f'genre_{i+1}'] = imdb_df['genre'].map(lambda x: x[i].replace(' ','') if len(x) > i else None)"
   ]
  },
  {
   "cell_type": "code",
   "execution_count": 348,
   "metadata": {},
   "outputs": [
    {
     "data": {
      "text/html": [
       "<div>\n",
       "<style scoped>\n",
       "    .dataframe tbody tr th:only-of-type {\n",
       "        vertical-align: middle;\n",
       "    }\n",
       "\n",
       "    .dataframe tbody tr th {\n",
       "        vertical-align: top;\n",
       "    }\n",
       "\n",
       "    .dataframe thead th {\n",
       "        text-align: right;\n",
       "    }\n",
       "</style>\n",
       "<table border=\"1\" class=\"dataframe\">\n",
       "  <thead>\n",
       "    <tr style=\"text-align: right;\">\n",
       "      <th></th>\n",
       "      <th>id</th>\n",
       "      <th>url</th>\n",
       "      <th>title</th>\n",
       "      <th>year</th>\n",
       "      <th>genre</th>\n",
       "      <th>certificate</th>\n",
       "      <th>runtime</th>\n",
       "      <th>imdb_rating</th>\n",
       "      <th>metascore</th>\n",
       "      <th>principals</th>\n",
       "      <th>director</th>\n",
       "      <th>creator</th>\n",
       "      <th>budget</th>\n",
       "      <th>domestic_box_office</th>\n",
       "      <th>worldwide_box_office</th>\n",
       "      <th>origin</th>\n",
       "      <th>genre_1</th>\n",
       "      <th>genre_2</th>\n",
       "      <th>genre_3</th>\n",
       "    </tr>\n",
       "  </thead>\n",
       "  <tbody>\n",
       "    <tr>\n",
       "      <th>0</th>\n",
       "      <td>tt1477834</td>\n",
       "      <td>/title/tt1477834/</td>\n",
       "      <td>Aquaman</td>\n",
       "      <td>2018</td>\n",
       "      <td>[Action,  Adventure,  Fantasy]</td>\n",
       "      <td>PG-13</td>\n",
       "      <td>143</td>\n",
       "      <td>6.8</td>\n",
       "      <td>55.0</td>\n",
       "      <td>[{'name': 'Jason Momoa', 'id': 'nm0597388'}, {...</td>\n",
       "      <td>[{'name': 'James Wan', 'id': 'nm1490123'}]</td>\n",
       "      <td>[{'id': 'co0002663'}, {'id': 'co0283444'}, {'i...</td>\n",
       "      <td>160000000.0</td>\n",
       "      <td>335104314.0</td>\n",
       "      <td>1.148528e+09</td>\n",
       "      <td>[United States, Australia]</td>\n",
       "      <td>Action</td>\n",
       "      <td>Adventure</td>\n",
       "      <td>Fantasy</td>\n",
       "    </tr>\n",
       "    <tr>\n",
       "      <th>1</th>\n",
       "      <td>tt1879016</td>\n",
       "      <td>/title/tt1879016/</td>\n",
       "      <td>Operation Mincemeat</td>\n",
       "      <td>2021</td>\n",
       "      <td>[Drama,  War]</td>\n",
       "      <td>PG-13</td>\n",
       "      <td>128</td>\n",
       "      <td>6.7</td>\n",
       "      <td>NaN</td>\n",
       "      <td>[{'name': 'Colin Firth', 'id': 'nm0000147'}, {...</td>\n",
       "      <td>[{'name': 'John Madden', 'id': 'nm0006960'}]</td>\n",
       "      <td>[{'id': 'co0230132'}, {'id': 'co0243890'}, {'i...</td>\n",
       "      <td>NaN</td>\n",
       "      <td>NaN</td>\n",
       "      <td>1.228859e+07</td>\n",
       "      <td>[United Kingdom, United States]</td>\n",
       "      <td>Drama</td>\n",
       "      <td>War</td>\n",
       "      <td>None</td>\n",
       "    </tr>\n",
       "    <tr>\n",
       "      <th>2</th>\n",
       "      <td>tt4513678</td>\n",
       "      <td>/title/tt4513678/</td>\n",
       "      <td>Ghostbusters: Afterlife</td>\n",
       "      <td>2021</td>\n",
       "      <td>[Adventure,  Comedy,  Fantasy]</td>\n",
       "      <td>PG-13</td>\n",
       "      <td>124</td>\n",
       "      <td>7.1</td>\n",
       "      <td>45.0</td>\n",
       "      <td>[{'name': 'Carrie Coon', 'id': 'nm4689420'}, {...</td>\n",
       "      <td>[{'name': 'Jason Reitman', 'id': 'nm0718646'}]</td>\n",
       "      <td>[{'id': 'co0050868'}, {'id': 'co0309252'}, {'i...</td>\n",
       "      <td>75000000.0</td>\n",
       "      <td>129360575.0</td>\n",
       "      <td>1.973606e+08</td>\n",
       "      <td>[United States, Canada]</td>\n",
       "      <td>Adventure</td>\n",
       "      <td>Comedy</td>\n",
       "      <td>Fantasy</td>\n",
       "    </tr>\n",
       "    <tr>\n",
       "      <th>3</th>\n",
       "      <td>t10954652</td>\n",
       "      <td>/title/tt10954652/</td>\n",
       "      <td>Old</td>\n",
       "      <td>2021</td>\n",
       "      <td>[Drama,  Horror,  Mystery]</td>\n",
       "      <td>PG-13</td>\n",
       "      <td>108</td>\n",
       "      <td>5.8</td>\n",
       "      <td>55.0</td>\n",
       "      <td>[{'name': 'Gael García Bernal', 'id': 'nm03055...</td>\n",
       "      <td>[{'name': 'M. Night Shyamalan', 'id': 'nm07961...</td>\n",
       "      <td>[{'id': 'co0005073'}, {'id': 'co0054054'}, {'i...</td>\n",
       "      <td>NaN</td>\n",
       "      <td>48276510.0</td>\n",
       "      <td>9.014651e+07</td>\n",
       "      <td>[United States, Japan]</td>\n",
       "      <td>Drama</td>\n",
       "      <td>Horror</td>\n",
       "      <td>Mystery</td>\n",
       "    </tr>\n",
       "    <tr>\n",
       "      <th>4</th>\n",
       "      <td>t10872600</td>\n",
       "      <td>/title/tt10872600/</td>\n",
       "      <td>Spider-Man: No Way Home</td>\n",
       "      <td>2021</td>\n",
       "      <td>[Action,  Adventure,  Fantasy]</td>\n",
       "      <td>PG-13</td>\n",
       "      <td>148</td>\n",
       "      <td>8.3</td>\n",
       "      <td>NaN</td>\n",
       "      <td>[{'name': 'Tom Holland', 'id': 'nm4043618'}, {...</td>\n",
       "      <td>[{'name': 'Jon Watts', 'id': 'nm1218281'}]</td>\n",
       "      <td>[{'id': 'co0050868'}, {'id': 'co0532247'}, {'i...</td>\n",
       "      <td>200000000.0</td>\n",
       "      <td>804747988.0</td>\n",
       "      <td>1.892748e+09</td>\n",
       "      <td>[United States]</td>\n",
       "      <td>Action</td>\n",
       "      <td>Adventure</td>\n",
       "      <td>Fantasy</td>\n",
       "    </tr>\n",
       "  </tbody>\n",
       "</table>\n",
       "</div>"
      ],
      "text/plain": [
       "          id                 url                    title  year  \\\n",
       "0  tt1477834   /title/tt1477834/                  Aquaman  2018   \n",
       "1  tt1879016   /title/tt1879016/      Operation Mincemeat  2021   \n",
       "2  tt4513678   /title/tt4513678/  Ghostbusters: Afterlife  2021   \n",
       "3  t10954652  /title/tt10954652/                      Old  2021   \n",
       "4  t10872600  /title/tt10872600/  Spider-Man: No Way Home  2021   \n",
       "\n",
       "                            genre certificate  runtime  imdb_rating  \\\n",
       "0  [Action,  Adventure,  Fantasy]       PG-13      143          6.8   \n",
       "1                   [Drama,  War]       PG-13      128          6.7   \n",
       "2  [Adventure,  Comedy,  Fantasy]       PG-13      124          7.1   \n",
       "3      [Drama,  Horror,  Mystery]       PG-13      108          5.8   \n",
       "4  [Action,  Adventure,  Fantasy]       PG-13      148          8.3   \n",
       "\n",
       "   metascore                                         principals  \\\n",
       "0       55.0  [{'name': 'Jason Momoa', 'id': 'nm0597388'}, {...   \n",
       "1        NaN  [{'name': 'Colin Firth', 'id': 'nm0000147'}, {...   \n",
       "2       45.0  [{'name': 'Carrie Coon', 'id': 'nm4689420'}, {...   \n",
       "3       55.0  [{'name': 'Gael García Bernal', 'id': 'nm03055...   \n",
       "4        NaN  [{'name': 'Tom Holland', 'id': 'nm4043618'}, {...   \n",
       "\n",
       "                                            director  \\\n",
       "0         [{'name': 'James Wan', 'id': 'nm1490123'}]   \n",
       "1       [{'name': 'John Madden', 'id': 'nm0006960'}]   \n",
       "2     [{'name': 'Jason Reitman', 'id': 'nm0718646'}]   \n",
       "3  [{'name': 'M. Night Shyamalan', 'id': 'nm07961...   \n",
       "4         [{'name': 'Jon Watts', 'id': 'nm1218281'}]   \n",
       "\n",
       "                                             creator       budget  \\\n",
       "0  [{'id': 'co0002663'}, {'id': 'co0283444'}, {'i...  160000000.0   \n",
       "1  [{'id': 'co0230132'}, {'id': 'co0243890'}, {'i...          NaN   \n",
       "2  [{'id': 'co0050868'}, {'id': 'co0309252'}, {'i...   75000000.0   \n",
       "3  [{'id': 'co0005073'}, {'id': 'co0054054'}, {'i...          NaN   \n",
       "4  [{'id': 'co0050868'}, {'id': 'co0532247'}, {'i...  200000000.0   \n",
       "\n",
       "   domestic_box_office  worldwide_box_office                           origin  \\\n",
       "0          335104314.0          1.148528e+09       [United States, Australia]   \n",
       "1                  NaN          1.228859e+07  [United Kingdom, United States]   \n",
       "2          129360575.0          1.973606e+08          [United States, Canada]   \n",
       "3           48276510.0          9.014651e+07           [United States, Japan]   \n",
       "4          804747988.0          1.892748e+09                  [United States]   \n",
       "\n",
       "     genre_1    genre_2  genre_3  \n",
       "0     Action  Adventure  Fantasy  \n",
       "1      Drama        War     None  \n",
       "2  Adventure     Comedy  Fantasy  \n",
       "3      Drama     Horror  Mystery  \n",
       "4     Action  Adventure  Fantasy  "
      ]
     },
     "execution_count": 348,
     "metadata": {},
     "output_type": "execute_result"
    }
   ],
   "source": [
    "imdb_df.head()"
   ]
  },
  {
   "cell_type": "code",
   "execution_count": 349,
   "metadata": {},
   "outputs": [
    {
     "name": "stdout",
     "output_type": "stream",
     "text": [
      "<class 'pandas.core.frame.DataFrame'>\n",
      "RangeIndex: 5000 entries, 0 to 4999\n",
      "Data columns (total 19 columns):\n",
      " #   Column                Non-Null Count  Dtype  \n",
      "---  ------                --------------  -----  \n",
      " 0   id                    5000 non-null   object \n",
      " 1   url                   5000 non-null   object \n",
      " 2   title                 5000 non-null   object \n",
      " 3   year                  5000 non-null   int64  \n",
      " 4   genre                 5000 non-null   object \n",
      " 5   certificate           4508 non-null   object \n",
      " 6   runtime               5000 non-null   int64  \n",
      " 7   imdb_rating           4999 non-null   float64\n",
      " 8   metascore             1560 non-null   float64\n",
      " 9   principals            4999 non-null   object \n",
      " 10  director              5000 non-null   object \n",
      " 11  creator               4995 non-null   object \n",
      " 12  budget                2429 non-null   float64\n",
      " 13  domestic_box_office   2646 non-null   float64\n",
      " 14  worldwide_box_office  3384 non-null   float64\n",
      " 15  origin                5000 non-null   object \n",
      " 16  genre_1               5000 non-null   object \n",
      " 17  genre_2               4210 non-null   object \n",
      " 18  genre_3               2861 non-null   object \n",
      "dtypes: float64(5), int64(2), object(12)\n",
      "memory usage: 742.3+ KB\n"
     ]
    }
   ],
   "source": [
    "imdb_df.info()"
   ]
  },
  {
   "cell_type": "markdown",
   "metadata": {},
   "source": [
    "<h2>Save to file</h2>\n",
    "\n",
    "<p>Everything looks good for now, so we will save to file. We're using pyarrow to save to a feather file, so we can preserve the list and dictionary structures we scraped</p>"
   ]
  },
  {
   "cell_type": "code",
   "execution_count": 350,
   "metadata": {},
   "outputs": [],
   "source": [
    "#export to feather to preserve the data structures (lists and dictionaries) we created in the scrape\n",
    "#we will clean up the dataset in the next notebook\n",
    "\n",
    "feather.write_feather(imdb_df, 'imdb_scrape_full.feather')"
   ]
  }
 ],
 "metadata": {
  "kernelspec": {
   "display_name": "Python (learn-env)",
   "language": "python",
   "name": "learn-env"
  },
  "language_info": {
   "codemirror_mode": {
    "name": "ipython",
    "version": 3
   },
   "file_extension": ".py",
   "mimetype": "text/x-python",
   "name": "python",
   "nbconvert_exporter": "python",
   "pygments_lexer": "ipython3",
   "version": "3.8.5"
  }
 },
 "nbformat": 4,
 "nbformat_minor": 4
}
