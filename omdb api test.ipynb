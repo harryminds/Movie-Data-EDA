{
 "cells": [
  {
   "cell_type": "code",
   "execution_count": 5,
   "metadata": {},
   "outputs": [],
   "source": [
    "import requests\n",
    "import pandas as pd"
   ]
  },
  {
   "cell_type": "code",
   "execution_count": 24,
   "metadata": {},
   "outputs": [],
   "source": [
    "omdb_api_key = '9d000665'\n",
    "\n",
    "url = 'http://www.omdbapi.com/'\n",
    "\n",
    "url_params = {\n",
    "    'i' : 'tt1825683',\n",
    "    'apikey' : omdb_api_key\n",
    "}\n",
    "\n",
    "r = requests.get(url, params = url_params)"
   ]
  },
  {
   "cell_type": "code",
   "execution_count": 22,
   "metadata": {},
   "outputs": [
    {
     "name": "stdout",
     "output_type": "stream",
     "text": [
      "http://www.omdbapi.com/?i=tt1825683&apikey=9d000665\n"
     ]
    }
   ],
   "source": [
    "print(r.request.url)"
   ]
  },
  {
   "cell_type": "code",
   "execution_count": 27,
   "metadata": {},
   "outputs": [
    {
     "data": {
      "text/plain": [
       "{'Title': 'Black Panther',\n",
       " 'Year': '2018',\n",
       " 'Rated': 'PG-13',\n",
       " 'Released': '16 Feb 2018',\n",
       " 'Runtime': '134 min',\n",
       " 'Genre': 'Action, Adventure, Sci-Fi',\n",
       " 'Director': 'Ryan Coogler',\n",
       " 'Writer': 'Ryan Coogler, Joe Robert Cole, Stan Lee',\n",
       " 'Actors': \"Chadwick Boseman, Michael B. Jordan, Lupita Nyong'o\",\n",
       " 'Plot': \"T'Challa, heir to the hidden but advanced kingdom of Wakanda, must step forward to lead his people into a new future and must confront a challenger from his country's past.\",\n",
       " 'Language': 'English, Swahili, Nama, Xhosa, Korean',\n",
       " 'Country': 'United States',\n",
       " 'Awards': 'Won 3 Oscars. 116 wins & 281 nominations total',\n",
       " 'Poster': 'https://m.media-amazon.com/images/M/MV5BMTg1MTY2MjYzNV5BMl5BanBnXkFtZTgwMTc4NTMwNDI@._V1_SX300.jpg',\n",
       " 'Ratings': [{'Source': 'Internet Movie Database', 'Value': '7.3/10'},\n",
       "  {'Source': 'Rotten Tomatoes', 'Value': '96%'},\n",
       "  {'Source': 'Metacritic', 'Value': '88/100'}],\n",
       " 'Metascore': '88',\n",
       " 'imdbRating': '7.3',\n",
       " 'imdbVotes': '723,771',\n",
       " 'imdbID': 'tt1825683',\n",
       " 'Type': 'movie',\n",
       " 'DVD': '02 May 2018',\n",
       " 'BoxOffice': '$700,426,566',\n",
       " 'Production': 'N/A',\n",
       " 'Website': 'N/A',\n",
       " 'Response': 'True'}"
      ]
     },
     "execution_count": 27,
     "metadata": {},
     "output_type": "execute_result"
    }
   ],
   "source": [
    "r.json()"
   ]
  },
  {
   "cell_type": "code",
   "execution_count": 28,
   "metadata": {},
   "outputs": [],
   "source": [
    "ex = r.json()"
   ]
  },
  {
   "cell_type": "code",
   "execution_count": 35,
   "metadata": {},
   "outputs": [
    {
     "data": {
      "text/html": [
       "<div>\n",
       "<style scoped>\n",
       "    .dataframe tbody tr th:only-of-type {\n",
       "        vertical-align: middle;\n",
       "    }\n",
       "\n",
       "    .dataframe tbody tr th {\n",
       "        vertical-align: top;\n",
       "    }\n",
       "\n",
       "    .dataframe thead th {\n",
       "        text-align: right;\n",
       "    }\n",
       "</style>\n",
       "<table border=\"1\" class=\"dataframe\">\n",
       "  <thead>\n",
       "    <tr style=\"text-align: right;\">\n",
       "      <th></th>\n",
       "      <th>Title</th>\n",
       "      <th>Year</th>\n",
       "      <th>Rated</th>\n",
       "      <th>Released</th>\n",
       "      <th>Runtime</th>\n",
       "      <th>Genre</th>\n",
       "      <th>Director</th>\n",
       "      <th>Writer</th>\n",
       "      <th>Actors</th>\n",
       "      <th>Plot</th>\n",
       "      <th>...</th>\n",
       "      <th>Metascore</th>\n",
       "      <th>imdbRating</th>\n",
       "      <th>imdbVotes</th>\n",
       "      <th>imdbID</th>\n",
       "      <th>Type</th>\n",
       "      <th>DVD</th>\n",
       "      <th>BoxOffice</th>\n",
       "      <th>Production</th>\n",
       "      <th>Website</th>\n",
       "      <th>Response</th>\n",
       "    </tr>\n",
       "  </thead>\n",
       "  <tbody>\n",
       "    <tr>\n",
       "      <th>0</th>\n",
       "      <td>Black Panther</td>\n",
       "      <td>2018</td>\n",
       "      <td>PG-13</td>\n",
       "      <td>16 Feb 2018</td>\n",
       "      <td>134 min</td>\n",
       "      <td>Action, Adventure, Sci-Fi</td>\n",
       "      <td>Ryan Coogler</td>\n",
       "      <td>Ryan Coogler, Joe Robert Cole, Stan Lee</td>\n",
       "      <td>Chadwick Boseman, Michael B. Jordan, Lupita Ny...</td>\n",
       "      <td>T'Challa, heir to the hidden but advanced king...</td>\n",
       "      <td>...</td>\n",
       "      <td>88</td>\n",
       "      <td>7.3</td>\n",
       "      <td>723,771</td>\n",
       "      <td>tt1825683</td>\n",
       "      <td>movie</td>\n",
       "      <td>02 May 2018</td>\n",
       "      <td>$700,426,566</td>\n",
       "      <td>N/A</td>\n",
       "      <td>N/A</td>\n",
       "      <td>True</td>\n",
       "    </tr>\n",
       "    <tr>\n",
       "      <th>1</th>\n",
       "      <td>Black Panther</td>\n",
       "      <td>2018</td>\n",
       "      <td>PG-13</td>\n",
       "      <td>16 Feb 2018</td>\n",
       "      <td>134 min</td>\n",
       "      <td>Action, Adventure, Sci-Fi</td>\n",
       "      <td>Ryan Coogler</td>\n",
       "      <td>Ryan Coogler, Joe Robert Cole, Stan Lee</td>\n",
       "      <td>Chadwick Boseman, Michael B. Jordan, Lupita Ny...</td>\n",
       "      <td>T'Challa, heir to the hidden but advanced king...</td>\n",
       "      <td>...</td>\n",
       "      <td>88</td>\n",
       "      <td>7.3</td>\n",
       "      <td>723,771</td>\n",
       "      <td>tt1825683</td>\n",
       "      <td>movie</td>\n",
       "      <td>02 May 2018</td>\n",
       "      <td>$700,426,566</td>\n",
       "      <td>N/A</td>\n",
       "      <td>N/A</td>\n",
       "      <td>True</td>\n",
       "    </tr>\n",
       "    <tr>\n",
       "      <th>2</th>\n",
       "      <td>Black Panther</td>\n",
       "      <td>2018</td>\n",
       "      <td>PG-13</td>\n",
       "      <td>16 Feb 2018</td>\n",
       "      <td>134 min</td>\n",
       "      <td>Action, Adventure, Sci-Fi</td>\n",
       "      <td>Ryan Coogler</td>\n",
       "      <td>Ryan Coogler, Joe Robert Cole, Stan Lee</td>\n",
       "      <td>Chadwick Boseman, Michael B. Jordan, Lupita Ny...</td>\n",
       "      <td>T'Challa, heir to the hidden but advanced king...</td>\n",
       "      <td>...</td>\n",
       "      <td>88</td>\n",
       "      <td>7.3</td>\n",
       "      <td>723,771</td>\n",
       "      <td>tt1825683</td>\n",
       "      <td>movie</td>\n",
       "      <td>02 May 2018</td>\n",
       "      <td>$700,426,566</td>\n",
       "      <td>N/A</td>\n",
       "      <td>N/A</td>\n",
       "      <td>True</td>\n",
       "    </tr>\n",
       "  </tbody>\n",
       "</table>\n",
       "<p>3 rows × 25 columns</p>\n",
       "</div>"
      ],
      "text/plain": [
       "           Title  Year  Rated     Released  Runtime  \\\n",
       "0  Black Panther  2018  PG-13  16 Feb 2018  134 min   \n",
       "1  Black Panther  2018  PG-13  16 Feb 2018  134 min   \n",
       "2  Black Panther  2018  PG-13  16 Feb 2018  134 min   \n",
       "\n",
       "                       Genre      Director  \\\n",
       "0  Action, Adventure, Sci-Fi  Ryan Coogler   \n",
       "1  Action, Adventure, Sci-Fi  Ryan Coogler   \n",
       "2  Action, Adventure, Sci-Fi  Ryan Coogler   \n",
       "\n",
       "                                    Writer  \\\n",
       "0  Ryan Coogler, Joe Robert Cole, Stan Lee   \n",
       "1  Ryan Coogler, Joe Robert Cole, Stan Lee   \n",
       "2  Ryan Coogler, Joe Robert Cole, Stan Lee   \n",
       "\n",
       "                                              Actors  \\\n",
       "0  Chadwick Boseman, Michael B. Jordan, Lupita Ny...   \n",
       "1  Chadwick Boseman, Michael B. Jordan, Lupita Ny...   \n",
       "2  Chadwick Boseman, Michael B. Jordan, Lupita Ny...   \n",
       "\n",
       "                                                Plot  ... Metascore  \\\n",
       "0  T'Challa, heir to the hidden but advanced king...  ...        88   \n",
       "1  T'Challa, heir to the hidden but advanced king...  ...        88   \n",
       "2  T'Challa, heir to the hidden but advanced king...  ...        88   \n",
       "\n",
       "  imdbRating imdbVotes     imdbID   Type          DVD     BoxOffice  \\\n",
       "0        7.3   723,771  tt1825683  movie  02 May 2018  $700,426,566   \n",
       "1        7.3   723,771  tt1825683  movie  02 May 2018  $700,426,566   \n",
       "2        7.3   723,771  tt1825683  movie  02 May 2018  $700,426,566   \n",
       "\n",
       "  Production Website Response  \n",
       "0        N/A     N/A     True  \n",
       "1        N/A     N/A     True  \n",
       "2        N/A     N/A     True  \n",
       "\n",
       "[3 rows x 25 columns]"
      ]
     },
     "execution_count": 35,
     "metadata": {},
     "output_type": "execute_result"
    }
   ],
   "source": [
    "pd.DataFrame(ex)"
   ]
  },
  {
   "cell_type": "code",
   "execution_count": null,
   "metadata": {},
   "outputs": [],
   "source": []
  }
 ],
 "metadata": {
  "kernelspec": {
   "display_name": "Python (learn-env)",
   "language": "python",
   "name": "learn-env"
  },
  "language_info": {
   "codemirror_mode": {
    "name": "ipython",
    "version": 3
   },
   "file_extension": ".py",
   "mimetype": "text/x-python",
   "name": "python",
   "nbconvert_exporter": "python",
   "pygments_lexer": "ipython3",
   "version": "3.8.5"
  }
 },
 "nbformat": 4,
 "nbformat_minor": 4
}
